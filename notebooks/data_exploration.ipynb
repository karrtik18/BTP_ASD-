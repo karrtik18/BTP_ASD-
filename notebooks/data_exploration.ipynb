{
  "cells": [
    {
      "cell_type": "markdown",
      "metadata": {
        "id": "954zIbxI-zgK"
      },
      "source": [
        "imports\n"
      ]
    },
    {
      "cell_type": "code",
      "execution_count": null,
      "metadata": {
        "id": "ypMbtm89-uyb"
      },
      "outputs": [],
      "source": [
        "\n",
        "import pandas as pd\n",
        "import numpy as np\n",
        "import warnings\n",
        "from sklearn.model_selection import train_test_split\n",
        "from xgboost import XGBClassifier\n",
        "from sklearn.metrics import accuracy_score, classification_report, confusion_matrix\n",
        "import seaborn as sns\n",
        "import matplotlib.pyplot as plt\n",
        "from sklearn.preprocessing import LabelEncoder\n",
        "\n",
        "\n",
        "warnings.filterwarnings('ignore')"
      ]
    },
    {
      "cell_type": "markdown",
      "metadata": {
        "id": "9XoHTfRX-2qG"
      },
      "source": [
        "Load the Dataset\n"
      ]
    },
    {
      "cell_type": "code",
      "execution_count": null,
      "metadata": {
        "colab": {
          "base_uri": "https://localhost:8080/"
        },
        "id": "WSZ-ojeE-5hF",
        "outputId": "16d36f4f-ee35-4679-ee64-bed83fd0f1d3"
      },
      "outputs": [
        {
          "name": "stdout",
          "output_type": "stream",
          "text": [
            "Dataset loaded successfully.\n"
          ]
        }
      ],
      "source": [
        "\n",
        "url = 'https://raw.githubusercontent.com/karrtik18/BTP_ASD-/main/autism_dataset.csv'\n",
        "df = pd.read_csv(url)\n",
        "print(\"Dataset loaded successfully.\")"
      ]
    },
    {
      "cell_type": "markdown",
      "metadata": {
        "id": "ZlxAkAwR-7oB"
      },
      "source": [
        "Data Cleaning\n"
      ]
    },
    {
      "cell_type": "code",
      "execution_count": null,
      "metadata": {
        "colab": {
          "base_uri": "https://localhost:8080/"
        },
        "id": "T3eCF34T-9pt",
        "outputId": "3aa24c19-d416-46b9-b13d-021fef6ed14d"
      },
      "outputs": [
        {
          "name": "stdout",
          "output_type": "stream",
          "text": [
            "Data cleaning complete.\n"
          ]
        }
      ],
      "source": [
        "\n",
        "\n",
        "\n",
        "df.replace('?', np.nan, inplace=True)\n",
        "\n",
        "\n",
        "df['age'] = pd.to_numeric(df['age'], errors='coerce')\n",
        "\n",
        "\n",
        "df['age'].fillna(df['age'].median(), inplace=True)\n",
        "\n",
        "\n",
        "categorical_cols_to_impute = ['gender', 'ethnicity', 'jundice', 'austim', 'contry_of_res', 'relation']\n",
        "for col in categorical_cols_to_impute:\n",
        "\n",
        "    df[col].fillna(df[col].mode()[0], inplace=True)\n",
        "\n",
        "print(\"Data cleaning complete.\")"
      ]
    },
    {
      "cell_type": "markdown",
      "metadata": {
        "id": "BwEffPFYRYKa"
      },
      "source": [
        "encoding\n"
      ]
    },
    {
      "cell_type": "code",
      "execution_count": null,
      "metadata": {
        "colab": {
          "base_uri": "https://localhost:8080/"
        },
        "id": "EvrczoFKRa6n",
        "outputId": "d807b2db-8046-4b63-d63e-4e37fa5ca46d"
      },
      "outputs": [
        {
          "name": "stdout",
          "output_type": "stream",
          "text": [
            "Feature engineering and encoding complete.\n"
          ]
        }
      ],
      "source": [
        "\n",
        "cols_to_drop = ['ethnicity', 'contry_of_res', 'age_desc', 'used_app_before', 'result']\n",
        "df.drop(cols_to_drop, axis=1, inplace=True)\n",
        "\n",
        "\n",
        "binary_map = {'yes': 1, 'no': 0, 'YES': 1, 'NO': 0}\n",
        "df['jundice'] = df['jundice'].map(binary_map)\n",
        "df['austim'] = df['austim'].map(binary_map)\n",
        "df['Class/ASD'] = df['Class/ASD'].map(binary_map)\n",
        "df = pd.get_dummies(df, columns=['gender', 'relation'], drop_first=True)\n",
        "\n",
        "print(\"Feature engineering and encoding complete.\")"
      ]
    },
    {
      "cell_type": "markdown",
      "metadata": {
        "id": "yoIzclZoRdNp"
      },
      "source": [
        "verification"
      ]
    },
    {
      "cell_type": "code",
      "execution_count": null,
      "metadata": {
        "colab": {
          "base_uri": "https://localhost:8080/"
        },
        "id": "xtq1qZt_Re_R",
        "outputId": "72ef7b1f-3847-48cd-a4d0-fe8684f02a01"
      },
      "outputs": [
        {
          "name": "stdout",
          "output_type": "stream",
          "text": [
            "\n",
            "DataFrame after all preprocessing and encoding:\n",
            "   A1_Score  A2_Score  A3_Score  A4_Score  A5_Score  A6_Score  A7_Score  \\\n",
            "0         1         1         1         1         0         0         1   \n",
            "1         1         1         0         1         0         0         0   \n",
            "2         1         1         0         1         1         0         1   \n",
            "3         1         1         0         1         0         0         1   \n",
            "4         1         0         0         0         0         0         0   \n",
            "\n",
            "   A8_Score  A9_Score  A10_Score   age  jundice  austim  Class/ASD  gender_m  \\\n",
            "0         1         0          0  26.0        0       0          0     False   \n",
            "1         1         0          1  24.0        0       1          0      True   \n",
            "2         1         1          1  27.0        1       1          1      True   \n",
            "3         1         0          1  35.0        0       1          0     False   \n",
            "4         1         0          0  40.0        0       0          0     False   \n",
            "\n",
            "   relation_Others  relation_Parent  relation_Relative  relation_Self  \n",
            "0            False            False              False           True  \n",
            "1            False            False              False           True  \n",
            "2            False             True              False          False  \n",
            "3            False            False              False           True  \n",
            "4            False            False              False           True  \n",
            "\n",
            "Columns in the final preprocessed DataFrame:\n",
            "Index(['A1_Score', 'A2_Score', 'A3_Score', 'A4_Score', 'A5_Score', 'A6_Score',\n",
            "       'A7_Score', 'A8_Score', 'A9_Score', 'A10_Score', 'age', 'jundice',\n",
            "       'austim', 'Class/ASD', 'gender_m', 'relation_Others', 'relation_Parent',\n",
            "       'relation_Relative', 'relation_Self'],\n",
            "      dtype='object')\n",
            "\n",
            "Shape of the final preprocessed DataFrame: (704, 19)\n",
            "\n",
            "Checking for any remaining missing values (all should be 0):\n",
            "A1_Score             0\n",
            "A2_Score             0\n",
            "A3_Score             0\n",
            "A4_Score             0\n",
            "A5_Score             0\n",
            "A6_Score             0\n",
            "A7_Score             0\n",
            "A8_Score             0\n",
            "A9_Score             0\n",
            "A10_Score            0\n",
            "age                  0\n",
            "jundice              0\n",
            "austim               0\n",
            "Class/ASD            0\n",
            "gender_m             0\n",
            "relation_Others      0\n",
            "relation_Parent      0\n",
            "relation_Relative    0\n",
            "relation_Self        0\n",
            "dtype: int64\n"
          ]
        }
      ],
      "source": [
        "\n",
        "print(\"\\nDataFrame after all preprocessing and encoding:\")\n",
        "print(df.head())\n",
        "print(\"\\nColumns in the final preprocessed DataFrame:\")\n",
        "print(df.columns)\n",
        "print(f\"\\nShape of the final preprocessed DataFrame: {df.shape}\")\n",
        "print(\"\\nChecking for any remaining missing values (all should be 0):\")\n",
        "print(df.isnull().sum())"
      ]
    },
    {
      "cell_type": "markdown",
      "metadata": {
        "id": "30jrL08NRgdU"
      },
      "source": [
        "preparing data for modelling"
      ]
    },
    {
      "cell_type": "code",
      "execution_count": null,
      "metadata": {
        "colab": {
          "base_uri": "https://localhost:8080/"
        },
        "id": "Z2i-KYcjRmJ4",
        "outputId": "348e2b34-03f5-41e0-e4e9-01ec076af1cf"
      },
      "outputs": [
        {
          "name": "stdout",
          "output_type": "stream",
          "text": [
            "\n",
            "Data split into training and testing sets.\n",
            "X_train shape: (563, 18)\n",
            "X_test shape: (141, 18)\n"
          ]
        }
      ],
      "source": [
        "\n",
        "X = df.drop(['Class/ASD'], axis=1)\n",
        "y = df['Class/ASD']\n",
        "\n",
        "X_train, X_test, y_train, y_test = train_test_split(X, y, test_size=0.2, random_state=42)\n",
        "\n",
        "print(\"\\nData split into training and testing sets.\")\n",
        "print(\"X_train shape:\", X_train.shape)\n",
        "print(\"X_test shape:\", X_test.shape)"
      ]
    },
    {
      "cell_type": "markdown",
      "metadata": {
        "id": "fxTQRHLkRxhJ"
      },
      "source": [
        "train the model"
      ]
    },
    {
      "cell_type": "code",
      "execution_count": null,
      "metadata": {
        "colab": {
          "base_uri": "https://localhost:8080/"
        },
        "id": "J2E1Eco8RzmF",
        "outputId": "cc7e5732-9157-4524-fe5f-d8d129fa981a"
      },
      "outputs": [
        {
          "name": "stdout",
          "output_type": "stream",
          "text": [
            "\n",
            "XGBoost model trained successfully.\n"
          ]
        }
      ],
      "source": [
        "\n",
        "model = XGBClassifier(random_state=42)\n",
        "model.fit(X_train.values, y_train.values)\n",
        "\n",
        "print(\"\\nXGBoost model trained successfully.\")"
      ]
    },
    {
      "cell_type": "markdown",
      "metadata": {
        "id": "fQGIHC8TR084"
      },
      "source": [
        "evaluate the model"
      ]
    },
    {
      "cell_type": "code",
      "execution_count": null,
      "metadata": {
        "colab": {
          "base_uri": "https://localhost:8080/",
          "height": 732
        },
        "id": "rzlwvoyNR4Eg",
        "outputId": "210355a9-e580-4c68-a1dc-a7cc59a44c0f"
      },
      "outputs": [
        {
          "name": "stdout",
          "output_type": "stream",
          "text": [
            "\n",
            "Model Accuracy: 97.87%\n",
            "\n",
            "Classification Report:\n",
            "              precision    recall  f1-score   support\n",
            "\n",
            "           0       1.00      0.97      0.99       105\n",
            "           1       0.92      1.00      0.96        36\n",
            "\n",
            "    accuracy                           0.98       141\n",
            "   macro avg       0.96      0.99      0.97       141\n",
            "weighted avg       0.98      0.98      0.98       141\n",
            "\n",
            "\n",
            "Confusion Matrix:\n"
          ]
        },
        {
          "data": {
            "image/png": "[encoded data removed]",
            "text/plain": [
              "<Figure size 640x480 with 2 Axes>"
            ]
          },
          "metadata": {},
          "output_type": "display_data"
        }
      ],
      "source": [
        " \n",
        "y_pred = model.predict(X_test.values)\n",
        "\n",
        "accuracy = accuracy_score(y_test, y_pred)\n",
        "print(f\"\\nModel Accuracy: {accuracy * 100:.2f}%\")\n",
        "\n",
        "print(\"\\nClassification Report:\")\n",
        "print(classification_report(y_test, y_pred))\n",
        "\n",
        " \n",
        "print(\"\\nConfusion Matrix:\")\n",
        "cm = confusion_matrix(y_test, y_pred)\n",
        "sns.heatmap(cm, annot=True, fmt='d', cmap='Blues')\n",
        "plt.xlabel('Predicted')\n",
        "plt.ylabel('Actual')\n",
        "plt.title('Confusion Matrix')\n",
        "plt.show()"
      ]
    }
  ],
  "metadata": {
    "colab": {
      "provenance": []
    },
    "kernelspec": {
      "display_name": "Python 3",
      "name": "python3"
    },
    "language_info": {
      "name": "python"
    }
  },
  "nbformat": 4,
  "nbformat_minor": 0
}
